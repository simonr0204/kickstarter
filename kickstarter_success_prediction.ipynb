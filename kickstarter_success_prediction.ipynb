{
 "cells": [
  {
   "cell_type": "markdown",
   "metadata": {},
   "source": [
    "## Predicting Kickstarter success"
   ]
  },
  {
   "cell_type": "markdown",
   "metadata": {},
   "source": [
    "Steps:\n",
    "* First step is to clean the data\n",
    "* Then we'll plot some graphs to get an idea of which features affect project success\n",
    "* Then we'll engineer some new features\n",
    "* Finally we'll build the model, evaluate it, and interpret the results\n",
    " \n",
    "\n",
    "Assumptions:\n",
    "\n",
    "1. Projects can only be funded in the currency of their country of origin (i.e. USD for US, GBP for GB, etc) (ref. https://help.kickstarter.com/hc/en-us/articles/115005132733-What-currency-will-my-pledge-be-collected-in-)  \n",
    "2. Data integrity is not correlated with the target (successful backing). This should be a safe assumption here, so we can safely drop bad data if it is not too frequent.\n",
    "3. As per the problem statement, the goal is to create a model which can predict whether a kickstarter campaign will be successful _a priori_. Therefore, the state, the amount pledged and the number of backers will not be used in the model"
   ]
  },
  {
   "cell_type": "code",
   "execution_count": 1,
   "metadata": {},
   "outputs": [],
   "source": [
    "import pandas as pd\n",
    "import numpy as np\n",
    "from matplotlib import pyplot as plt\n",
    "%matplotlib inline"
   ]
  },
  {
   "cell_type": "markdown",
   "metadata": {},
   "source": [
    "## Data cleaning"
   ]
  },
  {
   "cell_type": "markdown",
   "metadata": {},
   "source": [
    "Read in the data to a pandas dataframe:"
   ]
  },
  {
   "cell_type": "code",
   "execution_count": 2,
   "metadata": {},
   "outputs": [
    {
     "data": {
      "text/html": [
       "<div>\n",
       "<style scoped>\n",
       "    .dataframe tbody tr th:only-of-type {\n",
       "        vertical-align: middle;\n",
       "    }\n",
       "\n",
       "    .dataframe tbody tr th {\n",
       "        vertical-align: top;\n",
       "    }\n",
       "\n",
       "    .dataframe thead th {\n",
       "        text-align: right;\n",
       "    }\n",
       "</style>\n",
       "<table border=\"1\" class=\"dataframe\">\n",
       "  <thead>\n",
       "    <tr style=\"text-align: right;\">\n",
       "      <th></th>\n",
       "      <th>ID</th>\n",
       "      <th>name</th>\n",
       "      <th>category</th>\n",
       "      <th>main_category</th>\n",
       "      <th>currency</th>\n",
       "      <th>deadline</th>\n",
       "      <th>goal</th>\n",
       "      <th>launched</th>\n",
       "      <th>pledged</th>\n",
       "      <th>state</th>\n",
       "      <th>backers</th>\n",
       "      <th>country</th>\n",
       "      <th>usd pledged</th>\n",
       "      <th>Unnamed: 13</th>\n",
       "      <th>Unnamed: 14</th>\n",
       "      <th>Unnamed: 15</th>\n",
       "      <th>Unnamed: 16</th>\n",
       "    </tr>\n",
       "  </thead>\n",
       "  <tbody>\n",
       "    <tr>\n",
       "      <th>0</th>\n",
       "      <td>1000002330</td>\n",
       "      <td>The Songs of Adelaide &amp; Abullah</td>\n",
       "      <td>Poetry</td>\n",
       "      <td>Publishing</td>\n",
       "      <td>GBP</td>\n",
       "      <td>2015-10-09 11:36:00</td>\n",
       "      <td>1000</td>\n",
       "      <td>2015-08-11 12:12:28</td>\n",
       "      <td>0</td>\n",
       "      <td>failed</td>\n",
       "      <td>0</td>\n",
       "      <td>GB</td>\n",
       "      <td>0</td>\n",
       "      <td>NaN</td>\n",
       "      <td>NaN</td>\n",
       "      <td>NaN</td>\n",
       "      <td>NaN</td>\n",
       "    </tr>\n",
       "    <tr>\n",
       "      <th>1</th>\n",
       "      <td>1000004038</td>\n",
       "      <td>Where is Hank?</td>\n",
       "      <td>Narrative Film</td>\n",
       "      <td>Film &amp; Video</td>\n",
       "      <td>USD</td>\n",
       "      <td>2013-02-26 00:20:50</td>\n",
       "      <td>45000</td>\n",
       "      <td>2013-01-12 00:20:50</td>\n",
       "      <td>220</td>\n",
       "      <td>failed</td>\n",
       "      <td>3</td>\n",
       "      <td>US</td>\n",
       "      <td>220</td>\n",
       "      <td>NaN</td>\n",
       "      <td>NaN</td>\n",
       "      <td>NaN</td>\n",
       "      <td>NaN</td>\n",
       "    </tr>\n",
       "    <tr>\n",
       "      <th>2</th>\n",
       "      <td>1000007540</td>\n",
       "      <td>ToshiCapital Rekordz Needs Help to Complete Album</td>\n",
       "      <td>Music</td>\n",
       "      <td>Music</td>\n",
       "      <td>USD</td>\n",
       "      <td>2012-04-16 04:24:11</td>\n",
       "      <td>5000</td>\n",
       "      <td>2012-03-17 03:24:11</td>\n",
       "      <td>1</td>\n",
       "      <td>failed</td>\n",
       "      <td>1</td>\n",
       "      <td>US</td>\n",
       "      <td>1</td>\n",
       "      <td>NaN</td>\n",
       "      <td>NaN</td>\n",
       "      <td>NaN</td>\n",
       "      <td>NaN</td>\n",
       "    </tr>\n",
       "    <tr>\n",
       "      <th>3</th>\n",
       "      <td>1000011046</td>\n",
       "      <td>Community Film Project: The Art of Neighborhoo...</td>\n",
       "      <td>Film &amp; Video</td>\n",
       "      <td>Film &amp; Video</td>\n",
       "      <td>USD</td>\n",
       "      <td>2015-08-29 01:00:00</td>\n",
       "      <td>19500</td>\n",
       "      <td>2015-07-04 08:35:03</td>\n",
       "      <td>1283</td>\n",
       "      <td>canceled</td>\n",
       "      <td>14</td>\n",
       "      <td>US</td>\n",
       "      <td>1283</td>\n",
       "      <td>NaN</td>\n",
       "      <td>NaN</td>\n",
       "      <td>NaN</td>\n",
       "      <td>NaN</td>\n",
       "    </tr>\n",
       "    <tr>\n",
       "      <th>4</th>\n",
       "      <td>1000014025</td>\n",
       "      <td>Monarch Espresso Bar</td>\n",
       "      <td>Restaurants</td>\n",
       "      <td>Food</td>\n",
       "      <td>USD</td>\n",
       "      <td>2016-04-01 13:38:27</td>\n",
       "      <td>50000</td>\n",
       "      <td>2016-02-26 13:38:27</td>\n",
       "      <td>52375</td>\n",
       "      <td>successful</td>\n",
       "      <td>224</td>\n",
       "      <td>US</td>\n",
       "      <td>52375</td>\n",
       "      <td>NaN</td>\n",
       "      <td>NaN</td>\n",
       "      <td>NaN</td>\n",
       "      <td>NaN</td>\n",
       "    </tr>\n",
       "  </tbody>\n",
       "</table>\n",
       "</div>"
      ],
      "text/plain": [
       "          ID                                               name   \\\n",
       "0  1000002330                    The Songs of Adelaide & Abullah   \n",
       "1  1000004038                                     Where is Hank?   \n",
       "2  1000007540  ToshiCapital Rekordz Needs Help to Complete Album   \n",
       "3  1000011046  Community Film Project: The Art of Neighborhoo...   \n",
       "4  1000014025                               Monarch Espresso Bar   \n",
       "\n",
       "        category  main_category  currency             deadline   goal   \\\n",
       "0          Poetry     Publishing       GBP  2015-10-09 11:36:00   1000   \n",
       "1  Narrative Film   Film & Video       USD  2013-02-26 00:20:50  45000   \n",
       "2           Music          Music       USD  2012-04-16 04:24:11   5000   \n",
       "3    Film & Video   Film & Video       USD  2015-08-29 01:00:00  19500   \n",
       "4     Restaurants           Food       USD  2016-04-01 13:38:27  50000   \n",
       "\n",
       "             launched  pledged       state  backers  country  usd pledged   \\\n",
       "0  2015-08-11 12:12:28        0      failed        0       GB            0   \n",
       "1  2013-01-12 00:20:50      220      failed        3       US          220   \n",
       "2  2012-03-17 03:24:11        1      failed        1       US            1   \n",
       "3  2015-07-04 08:35:03     1283    canceled       14       US         1283   \n",
       "4  2016-02-26 13:38:27    52375  successful      224       US        52375   \n",
       "\n",
       "  Unnamed: 13 Unnamed: 14 Unnamed: 15  Unnamed: 16  \n",
       "0         NaN         NaN         NaN          NaN  \n",
       "1         NaN         NaN         NaN          NaN  \n",
       "2         NaN         NaN         NaN          NaN  \n",
       "3         NaN         NaN         NaN          NaN  \n",
       "4         NaN         NaN         NaN          NaN  "
      ]
     },
     "execution_count": 2,
     "metadata": {},
     "output_type": "execute_result"
    }
   ],
   "source": [
    "PATH_TO_FILE = 'data\\\\ks-projects-201612.csv'\n",
    "data = pd.read_csv(PATH_TO_FILE, encoding = \"latin\", low_memory=False)\n",
    "data.head()"
   ]
  },
  {
   "cell_type": "markdown",
   "metadata": {},
   "source": [
    "Firstly, the column labels also all have trailing spaces, so let's tidy that up.  \n",
    "Also, the ID column won't be useful to us so we can drop it.\n",
    "\n",
    "I won't be using the 'name' column in my model. Any effect is likely to be due to the semantic meaning of the name, rather than the characters contained. While it would be possible to map the name to a feature vector (e.g using a convolutional neural network), that would be beyond the scope of this first model  \n",
    "  \n",
    "Some of the data is entered badly due to missing values, with the remaining values shifted into the wrong columns. We can see this if we look at the currencies:"
   ]
  },
  {
   "cell_type": "code",
   "execution_count": 3,
   "metadata": {},
   "outputs": [
    {
     "data": {
      "text/plain": [
       "USD                   260298\n",
       "GBP                    27968\n",
       "CAD                    12197\n",
       "EUR                    11555\n",
       "AUD                     6347\n",
       "SEK                     1300\n",
       "NZD                     1164\n",
       "DKK                      841\n",
       "NOK                      540\n",
       "CHF                      478\n",
       "MXN                      214\n",
       "Publishing               123\n",
       "SGD                      119\n",
       "HKD                       97\n",
       "Film & Video              83\n",
       "Music                     73\n",
       "Art                       64\n",
       "Technology                44\n",
       "Design                    44\n",
       "Food                      44\n",
       "Games                     36\n",
       "Fashion                   32\n",
       "Photography               25\n",
       "Journalism                14\n",
       "Comics                    13\n",
       "Theater                   13\n",
       "Crafts                    10\n",
       "Dance                      5\n",
       "Nonfiction                 1\n",
       "Rock                       1\n",
       " Religion                  1\n",
       " Be active!                1\n",
       " tango and culture         1\n",
       "Painting                   1\n",
       "Software                   1\n",
       "Apparel                    1\n",
       " clothing company          1\n",
       "Name: currency, dtype: int64"
      ]
     },
     "execution_count": 3,
     "metadata": {},
     "output_type": "execute_result"
    }
   ],
   "source": [
    "data.columns = [col_name[:-1] for col_name in data.columns]  #remove trailing space\n",
    "data.drop(['ID', 'name'], axis=1, inplace=True)              #Drop un-used columns\n",
    "data['currency'].value_counts()"
   ]
  },
  {
   "cell_type": "markdown",
   "metadata": {},
   "source": [
    "We can test which lines are 'bad' by seeing if they have a recognized value for the currency:"
   ]
  },
  {
   "cell_type": "code",
   "execution_count": 4,
   "metadata": {},
   "outputs": [
    {
     "name": "stdout",
     "output_type": "stream",
     "text": [
      "The number of bad lines is 632 out of 323750 (0.20%)\n"
     ]
    }
   ],
   "source": [
    "currencies = ['USD','GBP','CAD', 'AUD','NOK', 'EUR','SEK', 'NZD', 'DKK', 'CHF', 'MXN', 'SGD', 'HKD']    #Recognised currencies\n",
    "bad_data = data[~data['currency'].isin(currencies)]['currency'].count()\n",
    "print(\"The number of bad lines is {} out of {} ({:.2f}%)\".format(bad_data, len(data), bad_data*100/len(data)))"
   ]
  },
  {
   "cell_type": "markdown",
   "metadata": {},
   "source": [
    "That's not very many. We could work out which columns the missing values are from and shift the rest, but since there are so few, its probably safe to just drop those lines (see assumption 2)   \n",
    "Also, according to assumption 1, 'usd pledged' is redundant, as usd_pledged=pledged if country=US and 0 otherwise, so we'll drop the usd_pledged column too.  "
   ]
  },
  {
   "cell_type": "code",
   "execution_count": 5,
   "metadata": {},
   "outputs": [],
   "source": [
    "data = data[data['currency'].isin(currencies)]\n",
    "data.drop(data.columns[[10, 11, 12, 13,14]], axis=1, inplace=True)"
   ]
  },
  {
   "cell_type": "code",
   "execution_count": 6,
   "metadata": {},
   "outputs": [
    {
     "data": {
      "text/plain": [
       "array(['GBP', 'USD', 'CAD', 'NOK', 'AUD', 'EUR', 'MXN', 'SEK', 'NZD',\n",
       "       'CHF', 'DKK', 'HKD', 'SGD'], dtype=object)"
      ]
     },
     "execution_count": 6,
     "metadata": {},
     "output_type": "execute_result"
    }
   ],
   "source": [
    "data['currency'].unique()"
   ]
  },
  {
   "cell_type": "markdown",
   "metadata": {},
   "source": [
    "That looks good. However, in order for the 'goal' amount to be a good predictor, we need to convert all the projects to the same currency.\n",
    "This is because a 1,000,000 USD project is not comparable to a 1,000,000 MXN (approx. 50,000 USD) project.  \n",
    "\n",
    "One could argue that this isn't necessary, since the currency information is contained in the 'currency' or 'country' column, but it is nonetheless beneficial to factor out the currency so that the 'country' column  carries purely demographic information (rather than demographic + currency).\n",
    "\n",
    "We'll use exchange rates valid on the 09/01/2019, convert all to USD, and drop the 'currency' column. No demographic information is lost in doing so, since the country column is preserved.\n",
    "\n",
    "Before we do that, we need to put the data in the correct format:"
   ]
  },
  {
   "cell_type": "code",
   "execution_count": 7,
   "metadata": {},
   "outputs": [],
   "source": [
    "strings='category main_category currency country state'.split(' ')\n",
    "ints='backers'.split(' ')\n",
    "floats='goal pledged'.split(' ')\n",
    "dates='launched deadline'.split(' ')\n",
    "\n",
    "for col in data.columns:\n",
    "    if col in strings:\n",
    "        data[col] = data[col].apply(str)\n",
    "    elif col in ints:\n",
    "        data[col] = data[col].apply(int)\n",
    "    elif col in floats:\n",
    "        data[col] = data[col].apply(float)\n",
    "    elif col in dates:\n",
    "        data[col] = data[col].apply(pd.to_datetime)"
   ]
  },
  {
   "cell_type": "code",
   "execution_count": 8,
   "metadata": {},
   "outputs": [],
   "source": [
    "rates = {currency:0 for currency in data['currency'].unique()}  #Rates from Google on 09/01/2018.\n",
    "rates['GBP']=1.28\n",
    "rates['USD']=1\n",
    "rates['CHF']=1.02\n",
    "rates['CAD']=0.76 \n",
    "rates['NOK']=0.12\n",
    "rates['AUD']=0.72 \n",
    "rates['EUR']=1.15 \n",
    "rates['MXN']=0.052\n",
    "rates['SEK']=0.11\n",
    "rates['NZD']=0.68\n",
    "rates['DKK']=0.15\n",
    "rates['HKD']=0.13\n",
    "rates['SGD']=0.74"
   ]
  },
  {
   "cell_type": "code",
   "execution_count": 9,
   "metadata": {},
   "outputs": [
    {
     "data": {
      "text/html": [
       "<div>\n",
       "<style scoped>\n",
       "    .dataframe tbody tr th:only-of-type {\n",
       "        vertical-align: middle;\n",
       "    }\n",
       "\n",
       "    .dataframe tbody tr th {\n",
       "        vertical-align: top;\n",
       "    }\n",
       "\n",
       "    .dataframe thead th {\n",
       "        text-align: right;\n",
       "    }\n",
       "</style>\n",
       "<table border=\"1\" class=\"dataframe\">\n",
       "  <thead>\n",
       "    <tr style=\"text-align: right;\">\n",
       "      <th></th>\n",
       "      <th>category</th>\n",
       "      <th>main_category</th>\n",
       "      <th>deadline</th>\n",
       "      <th>goal</th>\n",
       "      <th>launched</th>\n",
       "      <th>pledged</th>\n",
       "      <th>state</th>\n",
       "      <th>backers</th>\n",
       "      <th>country</th>\n",
       "    </tr>\n",
       "  </thead>\n",
       "  <tbody>\n",
       "    <tr>\n",
       "      <th>0</th>\n",
       "      <td>Poetry</td>\n",
       "      <td>Publishing</td>\n",
       "      <td>2015-10-09 11:36:00</td>\n",
       "      <td>1280.0</td>\n",
       "      <td>2015-08-11 12:12:28</td>\n",
       "      <td>0.0</td>\n",
       "      <td>failed</td>\n",
       "      <td>0</td>\n",
       "      <td>GB</td>\n",
       "    </tr>\n",
       "    <tr>\n",
       "      <th>1</th>\n",
       "      <td>Narrative Film</td>\n",
       "      <td>Film &amp; Video</td>\n",
       "      <td>2013-02-26 00:20:50</td>\n",
       "      <td>45000.0</td>\n",
       "      <td>2013-01-12 00:20:50</td>\n",
       "      <td>220.0</td>\n",
       "      <td>failed</td>\n",
       "      <td>3</td>\n",
       "      <td>US</td>\n",
       "    </tr>\n",
       "    <tr>\n",
       "      <th>2</th>\n",
       "      <td>Music</td>\n",
       "      <td>Music</td>\n",
       "      <td>2012-04-16 04:24:11</td>\n",
       "      <td>5000.0</td>\n",
       "      <td>2012-03-17 03:24:11</td>\n",
       "      <td>1.0</td>\n",
       "      <td>failed</td>\n",
       "      <td>1</td>\n",
       "      <td>US</td>\n",
       "    </tr>\n",
       "    <tr>\n",
       "      <th>3</th>\n",
       "      <td>Film &amp; Video</td>\n",
       "      <td>Film &amp; Video</td>\n",
       "      <td>2015-08-29 01:00:00</td>\n",
       "      <td>19500.0</td>\n",
       "      <td>2015-07-04 08:35:03</td>\n",
       "      <td>1283.0</td>\n",
       "      <td>canceled</td>\n",
       "      <td>14</td>\n",
       "      <td>US</td>\n",
       "    </tr>\n",
       "    <tr>\n",
       "      <th>4</th>\n",
       "      <td>Restaurants</td>\n",
       "      <td>Food</td>\n",
       "      <td>2016-04-01 13:38:27</td>\n",
       "      <td>50000.0</td>\n",
       "      <td>2016-02-26 13:38:27</td>\n",
       "      <td>52375.0</td>\n",
       "      <td>successful</td>\n",
       "      <td>224</td>\n",
       "      <td>US</td>\n",
       "    </tr>\n",
       "  </tbody>\n",
       "</table>\n",
       "</div>"
      ],
      "text/plain": [
       "         category main_category            deadline     goal  \\\n",
       "0          Poetry    Publishing 2015-10-09 11:36:00   1280.0   \n",
       "1  Narrative Film  Film & Video 2013-02-26 00:20:50  45000.0   \n",
       "2           Music         Music 2012-04-16 04:24:11   5000.0   \n",
       "3    Film & Video  Film & Video 2015-08-29 01:00:00  19500.0   \n",
       "4     Restaurants          Food 2016-04-01 13:38:27  50000.0   \n",
       "\n",
       "             launched  pledged       state  backers country  \n",
       "0 2015-08-11 12:12:28      0.0      failed        0      GB  \n",
       "1 2013-01-12 00:20:50    220.0      failed        3      US  \n",
       "2 2012-03-17 03:24:11      1.0      failed        1      US  \n",
       "3 2015-07-04 08:35:03   1283.0    canceled       14      US  \n",
       "4 2016-02-26 13:38:27  52375.0  successful      224      US  "
      ]
     },
     "execution_count": 9,
     "metadata": {},
     "output_type": "execute_result"
    }
   ],
   "source": [
    "data['goal'] = data['goal']*data['currency'].map(rates)     #Replace goal columns with goal converted to USD\n",
    "data['pledged'] = data['pledged']*data['currency'].map(rates) #same for amount pledged (target)\n",
    "data.drop('currency', axis=1, inplace=True)\n",
    "data.head()"
   ]
  },
  {
   "cell_type": "markdown",
   "metadata": {},
   "source": [
    "Now let's look at our target: 'state' "
   ]
  },
  {
   "cell_type": "code",
   "execution_count": 10,
   "metadata": {},
   "outputs": [
    {
     "data": {
      "text/plain": [
       "failed        168221\n",
       "successful    113081\n",
       "canceled       32354\n",
       "live            4428\n",
       "undefined       3555\n",
       "suspended       1479\n",
       "Name: state, dtype: int64"
      ]
     },
     "execution_count": 10,
     "metadata": {},
     "output_type": "execute_result"
    }
   ],
   "source": [
    "data['state'].value_counts()"
   ]
  },
  {
   "cell_type": "markdown",
   "metadata": {},
   "source": [
    "Any funding rounds which are live or suspended are not useful to us (for the problem as stated) since we don't know if they will succeed or fail (for our purposes, they are unlabeled), so we drop them.  \n",
    "One approach for canceled campaigns would be to consider them to have failed. However, reasons for cancelling a campaign could well be more complex (perhaps they were so successful that they secured funding privately). We will simply exclude them from our data.  \n",
    "Since we don't know whether 'undefined' campaigns are live or not, we will drop them too."
   ]
  },
  {
   "cell_type": "code",
   "execution_count": 11,
   "metadata": {},
   "outputs": [
    {
     "data": {
      "text/plain": [
       "failed        168221\n",
       "successful    113081\n",
       "Name: state, dtype: int64"
      ]
     },
     "execution_count": 11,
     "metadata": {},
     "output_type": "execute_result"
    }
   ],
   "source": [
    "data = data[data['state'].isin(['successful', 'failed'])]    #Keep only successful and failed campaigns\n",
    "data['state'].value_counts()"
   ]
  },
  {
   "cell_type": "markdown",
   "metadata": {},
   "source": [
    "Finally, let's check that none of the 'successful' campaigns are falsely labelled:"
   ]
  },
  {
   "cell_type": "code",
   "execution_count": 12,
   "metadata": {},
   "outputs": [
    {
     "data": {
      "text/html": [
       "<div>\n",
       "<style scoped>\n",
       "    .dataframe tbody tr th:only-of-type {\n",
       "        vertical-align: middle;\n",
       "    }\n",
       "\n",
       "    .dataframe tbody tr th {\n",
       "        vertical-align: top;\n",
       "    }\n",
       "\n",
       "    .dataframe thead th {\n",
       "        text-align: right;\n",
       "    }\n",
       "</style>\n",
       "<table border=\"1\" class=\"dataframe\">\n",
       "  <thead>\n",
       "    <tr style=\"text-align: right;\">\n",
       "      <th></th>\n",
       "      <th>category</th>\n",
       "      <th>main_category</th>\n",
       "      <th>deadline</th>\n",
       "      <th>goal</th>\n",
       "      <th>launched</th>\n",
       "      <th>pledged</th>\n",
       "      <th>state</th>\n",
       "      <th>backers</th>\n",
       "      <th>country</th>\n",
       "    </tr>\n",
       "  </thead>\n",
       "  <tbody>\n",
       "    <tr>\n",
       "      <th>62072</th>\n",
       "      <td>Art</td>\n",
       "      <td>Art</td>\n",
       "      <td>2012-08-27 15:58:00</td>\n",
       "      <td>3600.0</td>\n",
       "      <td>2012-07-26 03:31:28</td>\n",
       "      <td>3599.690</td>\n",
       "      <td>successful</td>\n",
       "      <td>64</td>\n",
       "      <td>US</td>\n",
       "    </tr>\n",
       "    <tr>\n",
       "      <th>129658</th>\n",
       "      <td>Shorts</td>\n",
       "      <td>Film &amp; Video</td>\n",
       "      <td>2015-12-27 19:06:18</td>\n",
       "      <td>36000.0</td>\n",
       "      <td>2015-11-12 19:06:18</td>\n",
       "      <td>30716.000</td>\n",
       "      <td>successful</td>\n",
       "      <td>275</td>\n",
       "      <td>US</td>\n",
       "    </tr>\n",
       "    <tr>\n",
       "      <th>198903</th>\n",
       "      <td>Documentary</td>\n",
       "      <td>Film &amp; Video</td>\n",
       "      <td>2010-07-18 05:59:00</td>\n",
       "      <td>8000.0</td>\n",
       "      <td>2010-06-02 22:15:38</td>\n",
       "      <td>7999.650</td>\n",
       "      <td>successful</td>\n",
       "      <td>73</td>\n",
       "      <td>US</td>\n",
       "    </tr>\n",
       "    <tr>\n",
       "      <th>235954</th>\n",
       "      <td>Art</td>\n",
       "      <td>Art</td>\n",
       "      <td>2010-07-08 23:39:00</td>\n",
       "      <td>2000.0</td>\n",
       "      <td>2010-05-27 00:26:33</td>\n",
       "      <td>1999.660</td>\n",
       "      <td>successful</td>\n",
       "      <td>30</td>\n",
       "      <td>US</td>\n",
       "    </tr>\n",
       "    <tr>\n",
       "      <th>287254</th>\n",
       "      <td>Product Design</td>\n",
       "      <td>Design</td>\n",
       "      <td>2016-03-19 18:14:02</td>\n",
       "      <td>28750.0</td>\n",
       "      <td>2016-02-08 19:14:02</td>\n",
       "      <td>28626.375</td>\n",
       "      <td>successful</td>\n",
       "      <td>90</td>\n",
       "      <td>DE</td>\n",
       "    </tr>\n",
       "  </tbody>\n",
       "</table>\n",
       "</div>"
      ],
      "text/plain": [
       "              category main_category            deadline     goal  \\\n",
       "62072              Art           Art 2012-08-27 15:58:00   3600.0   \n",
       "129658          Shorts  Film & Video 2015-12-27 19:06:18  36000.0   \n",
       "198903     Documentary  Film & Video 2010-07-18 05:59:00   8000.0   \n",
       "235954             Art           Art 2010-07-08 23:39:00   2000.0   \n",
       "287254  Product Design        Design 2016-03-19 18:14:02  28750.0   \n",
       "\n",
       "                  launched    pledged       state  backers country  \n",
       "62072  2012-07-26 03:31:28   3599.690  successful       64      US  \n",
       "129658 2015-11-12 19:06:18  30716.000  successful      275      US  \n",
       "198903 2010-06-02 22:15:38   7999.650  successful       73      US  \n",
       "235954 2010-05-27 00:26:33   1999.660  successful       30      US  \n",
       "287254 2016-02-08 19:14:02  28626.375  successful       90      DE  "
      ]
     },
     "execution_count": 12,
     "metadata": {},
     "output_type": "execute_result"
    }
   ],
   "source": [
    "data[(data['state']=='successful') & (data['pledged']<data['goal'])]"
   ]
  },
  {
   "cell_type": "markdown",
   "metadata": {},
   "source": [
    "Some of the campaigns were considered successful even though they fell slightly short of their target, though this occurs only 5 times. (The same is true for mis-labeled failed campaigns : 6 instances)\n",
    "\n",
    "The data is now cleaned, and we can move on to exploratory data analysis"
   ]
  },
  {
   "cell_type": "markdown",
   "metadata": {},
   "source": [
    "## Exploratory data analysis\n",
    "\n",
    "According to assumption 3, the features to be exploited are:  \n",
    "\n",
    "* category\n",
    "* main category\n",
    "* deadline\n",
    "* launched\n",
    "* goal\n",
    "* country  \n",
    "\n",
    "First let's see how many successful and failed funding campaigns there were and the distribution of their goals"
   ]
  },
  {
   "cell_type": "code",
   "execution_count": 13,
   "metadata": {},
   "outputs": [
    {
     "data": {
      "text/plain": [
       "<BarContainer object of 2 artists>"
      ]
     },
     "execution_count": 13,
     "metadata": {},
     "output_type": "execute_result"
    },
    {
     "data": {
      "image/png": "[encoded data removed]",
      "text/plain": [
       "<Figure size 432x288 with 1 Axes>"
      ]
     },
     "metadata": {
      "needs_background": "light"
     },
     "output_type": "display_data"
    }
   ],
   "source": [
    "plt.bar(x=['failed', 'successful'], height=[len(data[data['state']=='failed']), len(data[data['state']=='successful'])])"
   ]
  },
  {
   "cell_type": "markdown",
   "metadata": {},
   "source": [
    "We have highly imbalanced classes."
   ]
  },
  {
   "cell_type": "markdown",
   "metadata": {},
   "source": [
    "An overview of successful and failed projects:"
   ]
  },
  {
   "cell_type": "code",
   "execution_count": 14,
   "metadata": {},
   "outputs": [
    {
     "name": "stdout",
     "output_type": "stream",
     "text": [
      "successful projects\n",
      "                goal       pledged        backers\n",
      "count  1.130810e+05  1.130810e+05  113081.000000\n",
      "mean   9.363968e+03  2.087622e+04     253.624322\n",
      "std    2.880415e+04  1.452684e+05    1559.480049\n",
      "min    1.000000e-02  7.600000e-01       0.000000\n",
      "25%    1.300000e+03  1.953000e+03      32.000000\n",
      "50%    3.600000e+03  5.010000e+03      69.000000\n",
      "75%    1.000000e+04  1.244390e+04     160.000000\n",
      "max    2.000000e+06  2.033899e+07  219382.000000\n",
      "\n",
      "failed projects\n",
      "                goal        pledged        backers\n",
      "count  1.682210e+05  168221.000000  168221.000000\n",
      "mean   6.108570e+04    1321.396209      16.771230\n",
      "std    1.350172e+06    7008.613165      74.749984\n",
      "min    1.500000e-01       0.000000       0.000000\n",
      "25%    2.500000e+03       2.000000       1.000000\n",
      "50%    7.000000e+03     100.000000       3.000000\n",
      "75%    2.000000e+04     660.000000      12.000000\n",
      "max    1.280000e+08  757352.940000    6550.000000\n"
     ]
    }
   ],
   "source": [
    "print('successful projects\\n', data[data['state']=='successful'].describe())\n",
    "print('\\nfailed projects\\n', data[data['state']=='failed'].describe())"
   ]
  },
  {
   "cell_type": "markdown",
   "metadata": {},
   "source": [
    "We can see immediately that there is vast variation in even the order of magnitude  of funding goals. This suggests that log(goal) might be a more useful predictor.  \n",
    "We can plot a histogram of log(goal) for both successful and failed projects:"
   ]
  },
  {
   "cell_type": "code",
   "execution_count": 15,
   "metadata": {},
   "outputs": [
    {
     "data": {
      "text/plain": [
       "<matplotlib.legend.Legend at 0x1ffb4ff5d30>"
      ]
     },
     "execution_count": 15,
     "metadata": {},
     "output_type": "execute_result"
    },
    {
     "data": {
      "image/png": "[encoded data removed]",
      "text/plain": [
       "<Figure size 432x288 with 1 Axes>"
      ]
     },
     "metadata": {
      "needs_background": "light"
     },
     "output_type": "display_data"
    }
   ],
   "source": [
    "fig = plt.figure()\n",
    "\n",
    "ax = fig.add_axes([0,0,1,1])\n",
    "bins=30\n",
    "ax.hist(np.log10(data[data['state']=='failed']['goal']), bins=30, label='failed', alpha=0.6)\n",
    "ax.hist(np.log10(data[data['state']=='successful']['goal']), bins=bins, label='successful', alpha=0.6)\n",
    "ax.set_title('Goals')\n",
    "ax.set_xlabel('log10(goal)')\n",
    "ax.legend()"
   ]
  },
  {
   "cell_type": "markdown",
   "metadata": {},
   "source": [
    "The distributions are fairly normally distributed in for log(goal). There is a slight bi-modal tendancy in both distributions (with a secondary peak at 200), although this is likely explained by the use of various currencies (more on this later).  \n",
    "As expected, the 'failed' graph is shifted to a higher mean goal than 'successful'. Projects which are too ambitious with their goal are more likely to fail.\\\n",
    "  \n",
    "  \n",
    "We can also look at the success rate by category, for each categorical variable.\n",
    "We add the option to plot only the N most successful and least succesful categories (useful for 'category' where the number of categories is very high)"
   ]
  },
  {
   "cell_type": "code",
   "execution_count": 16,
   "metadata": {},
   "outputs": [],
   "source": [
    "def plot_cat(cat, top=False):        #Function to plot the success rate by category for a given categorical variable\n",
    "    \n",
    "    cat_summary = pd.DataFrame(data.groupby(by=cat)['state'].value_counts()).unstack()\n",
    "    cat_summary.columns = ['failed', 'successful']\n",
    "    cat_summary['success_rate'] = cat_summary['successful'] / (cat_summary['successful']+cat_summary['failed'])\n",
    "    cat_summary.sort_values('success_rate', ascending=False, inplace=True)\n",
    "    cat_summary.reset_index(inplace=True)\n",
    "    cat_summary.head()\n",
    "\n",
    "    fig = plt.figure(figsize=(10,3))\n",
    "    ax = fig.add_subplot(111)\n",
    "\n",
    "    if top:\n",
    "        ax.bar(x=cat_summary[cat].head(top), height=cat_summary['success_rate'].head(top))\n",
    "        ax.bar(x=cat_summary[cat].tail(top), height=cat_summary['success_rate'].tail(top))\n",
    "    else:\n",
    "        ax.bar(x=cat_summary[cat], height=cat_summary['success_rate'])\n",
    "\n",
    "    plt.xticks(rotation='vertical')\n",
    "    plt.title(f'Success rate by {cat}')"
   ]
  },
  {
   "cell_type": "code",
   "execution_count": 17,
   "metadata": {},
   "outputs": [
    {
     "data": {
      "image/png": "[encoded data removed]",
      "text/plain": [
       "<Figure size 720x216 with 1 Axes>"
      ]
     },
     "metadata": {
      "needs_background": "light"
     },
     "output_type": "display_data"
    },
    {
     "data": {
      "image/png": "[encoded data removed]",
      "text/plain": [
       "<Figure size 720x216 with 1 Axes>"
      ]
     },
     "metadata": {
      "needs_background": "light"
     },
     "output_type": "display_data"
    },
    {
     "data": {
      "image/png": "[encoded data removed]",
      "text/plain": [
       "<Figure size 720x216 with 1 Axes>"
      ]
     },
     "metadata": {
      "needs_background": "light"
     },
     "output_type": "display_data"
    }
   ],
   "source": [
    "plot_cat('country')\n",
    "plot_cat('main_category')\n",
    "plot_cat('category', top=15)  #Lots of categories so plot only the best and worst 15 categories"
   ]
  },
  {
   "cell_type": "markdown",
   "metadata": {},
   "source": [
    "It looks like country, main_category, and category are all good predictors of success."
   ]
  },
  {
   "cell_type": "markdown",
   "metadata": {},
   "source": [
    "## Feature engineering \n",
    "\n",
    "We can introduce a new column for the amount funded (pledged/goal). This will be useful for comparing with the goal, but also when we create the predictive model. It's probably better to use the model to predict funding %, and then deduce whether the goal was met (>=100%), in order not to lose information from the training data. i.e. 99% funded is very different to 1% funded, but both give simply 'failed'\n",
    "\n",
    "Let's also turn the date columns into something more useful. Instead of 'launched' and 'deadline', we'll have the month of the launch and the deadline, and the duration in days.  \n",
    "This will preserve both the time of year and the duration, both potentially predictive attributes\n",
    "\n",
    "We also add in 'dollars per day', as the higher the goal, the more time required to fund, even if the project is strongly supported."
   ]
  },
  {
   "cell_type": "code",
   "execution_count": 18,
   "metadata": {},
   "outputs": [],
   "source": [
    "data['duration'] = (data['deadline'] - data['launched']).apply(lambda duration: duration.days)\n",
    "data['log_goal'] = data['goal'].apply(np.log10)\n",
    "data['dollars_per_day'] = data['goal'] /  data['duration']\n",
    "data['log_dollars_per_day'] =  data['dollars_per_day'].apply(np.log10)\n",
    "data['funded'] = data['pledged'] / data['goal']\n",
    "data['launched_quarter'] = data['launched'].apply(lambda date: (date.quarter))\n",
    "data['deadline_quarter'] = data['deadline'].apply(lambda date: (date.quarter))\n",
    "\n",
    "data.drop(['deadline', 'launched'], axis=1, inplace=True)"
   ]
  },
  {
   "cell_type": "code",
   "execution_count": 19,
   "metadata": {},
   "outputs": [
    {
     "data": {
      "image/png": "[encoded data removed]",
      "text/plain": [
       "<Figure size 720x216 with 1 Axes>"
      ]
     },
     "metadata": {
      "needs_background": "light"
     },
     "output_type": "display_data"
    },
    {
     "data": {
      "image/png": "[encoded data removed]",
      "text/plain": [
       "<Figure size 720x216 with 1 Axes>"
      ]
     },
     "metadata": {
      "needs_background": "light"
     },
     "output_type": "display_data"
    }
   ],
   "source": [
    "plot_cat('launched_quarter')\n",
    "plot_cat('deadline_quarter')"
   ]
  },
  {
   "cell_type": "markdown",
   "metadata": {},
   "source": [
    "Success looks weakly dependent on quarter. Interestingly, we see the same tendency for both launched quarter and deadline quarter, with quarters 2 and 4 being the most successful.  \n",
    "This points to some very strong grouping of project durations:"
   ]
  },
  {
   "cell_type": "code",
   "execution_count": 20,
   "metadata": {},
   "outputs": [
    {
     "name": "stdout",
     "output_type": "stream",
     "text": [
      "Successful projects: \n",
      " 30    42725\n",
      "29     5969\n",
      "60     4722\n",
      "31     4449\n",
      "45     4086\n",
      "Name: duration, dtype: int64\n",
      "\n",
      "Failed projects: \n",
      " 30    75845\n",
      "60    16429\n",
      "29     8832\n",
      "45     8234\n",
      "40     4167\n",
      "Name: duration, dtype: int64\n",
      "\n",
      "% projects with a duration of between 29 and 61 = 81.0%\n"
     ]
    }
   ],
   "source": [
    "print('Successful projects: \\n', (data[data['state'] == 'successful']['duration']).value_counts().head())       #Get most common durations of successful and failed projects\n",
    "print('\\nFailed projects: \\n', (data[data['state'] == 'failed']['duration']).value_counts().head())\n",
    "\n",
    "print('\\n% projects with a duration of between 29 and 61 = {:.1f}%'.format(100*data[data['duration'].between(29,61)]['duration'].count()/len(data)))"
   ]
  },
  {
   "cell_type": "markdown",
   "metadata": {},
   "source": [
    "Indeed, both successful and failed projects tend to last between one and two months."
   ]
  },
  {
   "cell_type": "code",
   "execution_count": 21,
   "metadata": {},
   "outputs": [
    {
     "data": {
      "text/plain": [
       "<matplotlib.legend.Legend at 0x1ffb7c0ff60>"
      ]
     },
     "execution_count": 21,
     "metadata": {},
     "output_type": "execute_result"
    },
    {
     "data": {
      "image/png": "[encoded data removed]",
      "text/plain": [
       "<Figure size 432x288 with 1 Axes>"
      ]
     },
     "metadata": {
      "needs_background": "light"
     },
     "output_type": "display_data"
    }
   ],
   "source": [
    "fig = plt.figure()\n",
    "\n",
    "ax = fig.add_axes([0,0,1,1])\n",
    "bins=30\n",
    "ax.hist(data[data['state']=='failed']['log_dollars_per_day'], bins=bins, label='failed', alpha=0.6)\n",
    "ax.hist(data[data['state']=='successful']['log_dollars_per_day'], bins=bins, label='successful', alpha=0.6)\n",
    "ax.set_title('log_dollars_per_day')\n",
    "ax.set_xlabel('log_dollars_per_day)')\n",
    "ax.legend()"
   ]
  },
  {
   "cell_type": "markdown",
   "metadata": {},
   "source": [
    "Log(dollars per day) is normally distibuted. As suspected, the secondary peak was indeed an artefact of using different currencies.\n",
    "\n",
    "We'll drop 'goal' and 'dollars per day' as features in favour of the logs of their values"
   ]
  },
  {
   "cell_type": "code",
   "execution_count": 22,
   "metadata": {},
   "outputs": [],
   "source": [
    "model_data = data.copy(deep=True)  #We're about to encode our categorical variables so make a deep copy here."
   ]
  },
  {
   "cell_type": "markdown",
   "metadata": {},
   "source": [
    "## Create model\n",
    "\n",
    "The model proposed is a random forest regressor. Although we are attempting to classify into 'successful' and 'failed', the category into which each example fits is perfectly described by the 'funded' value :  if it is 100% funded or greater, it is successful, otherwise it has failed. Using a regressor preserves information about how successful a campaign is predicted to be, even if it was not 'successful' as per the 100% requirement.\n",
    "\n",
    "Python's SKLearn library requires that categorical variables be encoded to numerical before fitting. This isn't a requirement of decision trees in a general sense, rather a limitation of the library. One consequence of this is that the categories of each variable are assigned an order which does not exist in reality (no category is 'greater' than another - they are orthogonal). To overcome this, it is possible to once again make the categories orthogonal, by one-hot encoding the variable. However, this makes the data very sparse, causing convergence concerns. Here, we will simply encode the labels and accept the unrealistic ordinality.  \n",
    "\n",
    "Since we're using a random forest, there's no need to scale and normalize the data"
   ]
  },
  {
   "cell_type": "code",
   "execution_count": 23,
   "metadata": {},
   "outputs": [
    {
     "data": {
      "text/html": [
       "<div>\n",
       "<style scoped>\n",
       "    .dataframe tbody tr th:only-of-type {\n",
       "        vertical-align: middle;\n",
       "    }\n",
       "\n",
       "    .dataframe tbody tr th {\n",
       "        vertical-align: top;\n",
       "    }\n",
       "\n",
       "    .dataframe thead th {\n",
       "        text-align: right;\n",
       "    }\n",
       "</style>\n",
       "<table border=\"1\" class=\"dataframe\">\n",
       "  <thead>\n",
       "    <tr style=\"text-align: right;\">\n",
       "      <th></th>\n",
       "      <th>duration</th>\n",
       "      <th>log_goal</th>\n",
       "      <th>log_dollars_per_day</th>\n",
       "      <th>funded</th>\n",
       "      <th>launched_quarter</th>\n",
       "      <th>deadline_quarter</th>\n",
       "      <th>main_category</th>\n",
       "      <th>category</th>\n",
       "      <th>country</th>\n",
       "    </tr>\n",
       "  </thead>\n",
       "  <tbody>\n",
       "    <tr>\n",
       "      <th>0</th>\n",
       "      <td>58</td>\n",
       "      <td>3.107210</td>\n",
       "      <td>1.343782</td>\n",
       "      <td>0.000000</td>\n",
       "      <td>3</td>\n",
       "      <td>4</td>\n",
       "      <td>12</td>\n",
       "      <td>107</td>\n",
       "      <td>9</td>\n",
       "    </tr>\n",
       "    <tr>\n",
       "      <th>1</th>\n",
       "      <td>45</td>\n",
       "      <td>4.653213</td>\n",
       "      <td>3.000000</td>\n",
       "      <td>0.004889</td>\n",
       "      <td>1</td>\n",
       "      <td>1</td>\n",
       "      <td>6</td>\n",
       "      <td>92</td>\n",
       "      <td>21</td>\n",
       "    </tr>\n",
       "    <tr>\n",
       "      <th>2</th>\n",
       "      <td>30</td>\n",
       "      <td>3.698970</td>\n",
       "      <td>2.221849</td>\n",
       "      <td>0.000200</td>\n",
       "      <td>1</td>\n",
       "      <td>2</td>\n",
       "      <td>10</td>\n",
       "      <td>89</td>\n",
       "      <td>21</td>\n",
       "    </tr>\n",
       "    <tr>\n",
       "      <th>4</th>\n",
       "      <td>35</td>\n",
       "      <td>4.698970</td>\n",
       "      <td>3.154902</td>\n",
       "      <td>1.047500</td>\n",
       "      <td>1</td>\n",
       "      <td>2</td>\n",
       "      <td>7</td>\n",
       "      <td>122</td>\n",
       "      <td>21</td>\n",
       "    </tr>\n",
       "    <tr>\n",
       "      <th>5</th>\n",
       "      <td>20</td>\n",
       "      <td>3.000000</td>\n",
       "      <td>1.698970</td>\n",
       "      <td>1.205000</td>\n",
       "      <td>4</td>\n",
       "      <td>4</td>\n",
       "      <td>7</td>\n",
       "      <td>58</td>\n",
       "      <td>21</td>\n",
       "    </tr>\n",
       "  </tbody>\n",
       "</table>\n",
       "</div>"
      ],
      "text/plain": [
       "   duration  log_goal  log_dollars_per_day    funded  launched_quarter  \\\n",
       "0        58  3.107210             1.343782  0.000000                 3   \n",
       "1        45  4.653213             3.000000  0.004889                 1   \n",
       "2        30  3.698970             2.221849  0.000200                 1   \n",
       "4        35  4.698970             3.154902  1.047500                 1   \n",
       "5        20  3.000000             1.698970  1.205000                 4   \n",
       "\n",
       "   deadline_quarter  main_category  category  country  \n",
       "0                 4             12       107        9  \n",
       "1                 1              6        92       21  \n",
       "2                 2             10        89       21  \n",
       "4                 2              7       122       21  \n",
       "5                 4              7        58       21  "
      ]
     },
     "execution_count": 23,
     "metadata": {},
     "output_type": "execute_result"
    }
   ],
   "source": [
    "from sklearn import preprocessing\n",
    "\n",
    "model_data.drop(['pledged', 'state', 'backers', 'goal', 'dollars_per_day'], axis=1, inplace=True)\n",
    "\n",
    "categoricals = model_data[['main_category', 'category', 'country']] \n",
    "model_data.drop(categoricals, axis=1, inplace=True)\n",
    "\n",
    "#Label encode\n",
    "le = preprocessing.LabelEncoder()\n",
    "categoricals = categoricals.apply(le.fit_transform)\n",
    "\n",
    "model_data=pd.concat([model_data, pd.DataFrame(categoricals)], axis=1).dropna()\n",
    "model_data.head()  # A final look at the data to be fed into the algorithm"
   ]
  },
  {
   "cell_type": "code",
   "execution_count": 24,
   "metadata": {},
   "outputs": [],
   "source": [
    "from sklearn.model_selection import train_test_split         #split the data into features and target, train\n",
    "X = model_data.drop('funded', axis=1)\n",
    "y = model_data['funded']\n",
    "\n",
    "X_train, X_test, y_train, y_test = train_test_split(X, y, test_size=0.3, random_state=101)#Random seed for reproduciblity"
   ]
  },
  {
   "cell_type": "code",
   "execution_count": 25,
   "metadata": {},
   "outputs": [
    {
     "name": "stderr",
     "output_type": "stream",
     "text": [
      "C:\\Users\\Simon\\Anaconda3\\lib\\site-packages\\sklearn\\ensemble\\weight_boosting.py:29: DeprecationWarning: numpy.core.umath_tests is an internal NumPy module and should not be imported. It will be removed in a future NumPy release.\n",
      "  from numpy.core.umath_tests import inner1d\n"
     ]
    }
   ],
   "source": [
    "from sklearn.ensemble import RandomForestRegressor     #Create and run model\n",
    "\n",
    "model = RandomForestRegressor(n_estimators=100, random_state=101)  #Random seed for reproduciblity\n",
    "\n",
    "model.fit(X_train, y_train)\n",
    "result = model.predict(X_test)\n",
    "features =  model.feature_importances_\n",
    "\n",
    "prediction = [0 if funded<1 else 1 for funded in result]      #Convert predicted and truth lists of funded % into lists of success or fail\n",
    "truth = [0 if funded<1 else 1 for funded in y_test]"
   ]
  },
  {
   "cell_type": "markdown",
   "metadata": {},
   "source": [
    "## Evaluate and interpret model"
   ]
  },
  {
   "cell_type": "code",
   "execution_count": 26,
   "metadata": {},
   "outputs": [
    {
     "name": "stdout",
     "output_type": "stream",
     "text": [
      "             precision    recall  f1-score   support\n",
      "\n",
      "     failed       0.65      0.80      0.72     50280\n",
      " successful       0.55      0.35      0.43     34111\n",
      "\n",
      "avg / total       0.61      0.62      0.60     84391\n",
      "\n",
      "(Positive = Success predicted)\n",
      "True Positives = 11889\n",
      "False Positives = 9838\n",
      "True Negatives = 40442\n",
      "False Negatives = 22222\n",
      "\n",
      "Overall Accuracy = 62.0%\n"
     ]
    }
   ],
   "source": [
    "from sklearn.metrics import confusion_matrix, classification_report  \n",
    "cf = confusion_matrix(truth, prediction)\n",
    "cr = classification_report(truth, prediction, target_names=['failed', 'successful'])\n",
    "\n",
    "print(cr)\n",
    "\n",
    "print('(Positive = Success predicted)')\n",
    "print(f'True Positives = {cf[1][1]}')\n",
    "print(f'False Positives = {cf[0][1]}')\n",
    "print(f'True Negatives = {cf[0][0]}')\n",
    "print(f'False Negatives = {cf[1][0]}') \n",
    "accuracy=(cf[0][0]+ cf[1][1])/cf.sum()\n",
    "print('\\nOverall Accuracy = {:.1f}%'.format(100*accuracy))"
   ]
  },
  {
   "cell_type": "markdown",
   "metadata": {},
   "source": [
    "We're able to obtain an overall accuracy of around 62%. However, the data is quite unbalanced, so we should consider the precision and recall for each class.  \n",
    "* 80% of failed projects are correctly identified, whereas only 35% of successful projects are.   \n",
    "* 65% of projects predicted to fail actually did, whereas 55% of projects predicted to succeed actually did.  \n",
    "\n",
    "The algorithm has a tendency to over-predict failure.\n",
    "\n",
    "When run many times over (this time without the randomn seed on the test/train split and random forest) the algorithm is stable.  \n",
    "\n",
    "We can look at which of our features were deemed most predictive by the model:"
   ]
  },
  {
   "cell_type": "code",
   "execution_count": 27,
   "metadata": {},
   "outputs": [
    {
     "name": "stdout",
     "output_type": "stream",
     "text": [
      "Feature importance:\n"
     ]
    },
    {
     "data": {
      "text/plain": [
       "<matplotlib.axes._subplots.AxesSubplot at 0x1ffb8ad1710>"
      ]
     },
     "execution_count": 27,
     "metadata": {},
     "output_type": "execute_result"
    },
    {
     "data": {
      "image/png": "[encoded data removed]",
      "text/plain": [
       "<Figure size 432x288 with 1 Axes>"
      ]
     },
     "metadata": {
      "needs_background": "light"
     },
     "output_type": "display_data"
    }
   ],
   "source": [
    "ftr_imp_rf=zip(X_train.columns, features)  #get feature importance for each variable and plot in descending order\n",
    "print(\"Feature importance:\")\n",
    "pd.Series({value[0]: value[1] for value in sorted(ftr_imp_rf, key=lambda x: x[1], reverse=True)}).plot(kind='bar')"
   ]
  },
  {
   "cell_type": "markdown",
   "metadata": {},
   "source": [
    "Log dollars per day was by far the most powerful indicator. Interestingly, 'country' was insignificant once the currency information was factored out, despite the most succesful country having a success rate of twice that of the least successful. This is likely to be because the projects are overwhelmingly from just a few of the countries (US, GB, AU), each with a similar success rate. This class imbalance is likely to be present in many of the categorical variables, limiting their predictive power."
   ]
  },
  {
   "cell_type": "markdown",
   "metadata": {},
   "source": [
    "Possible improvements:\n",
    "* Obtain more data (or more balanced data)\n",
    "* Engineer more  (or better) features (We could try to engineer something from the names, e.g. name length, presence of '!' or '?', presence of certain words, etc. We could even use a neural network to create a semantic feature map of the names, although this is costly and would require a lot more data)\n",
    "* Tune the algorithm. As long as the number of trees is sufficient, there's not much gain to adding more. We could also tune the algorithms hyperparameters via grid search, though the expected gain is probably fairly low\n",
    "* Perform k-fold cross validation. "
   ]
  },
  {
   "cell_type": "code",
   "execution_count": null,
   "metadata": {},
   "outputs": [],
   "source": []
  }
 ],
 "metadata": {
  "kernelspec": {
   "display_name": "Python 3",
   "language": "python",
   "name": "python3"
  },
  "language_info": {
   "codemirror_mode": {
    "name": "ipython",
    "version": 3
   },
   "file_extension": ".py",
   "mimetype": "text/x-python",
   "name": "python",
   "nbconvert_exporter": "python",
   "pygments_lexer": "ipython3",
   "version": "3.7.0"
  }
 },
 "nbformat": 4,
 "nbformat_minor": 2
}
